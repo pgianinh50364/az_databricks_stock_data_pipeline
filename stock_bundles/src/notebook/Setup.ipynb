{
 "cells": [
  {
   "cell_type": "markdown",
   "id": "a67752ac",
   "metadata": {},
   "source": [
    "##### Create a catalog in our new metastore"
   ]
  },
  {
   "cell_type": "code",
   "execution_count": null,
   "id": "d8e68317",
   "metadata": {
    "vscode": {
     "languageId": "plaintext"
    }
   },
   "outputs": [],
   "source": [
    "%sql\n",
    "CREATE CATALOG IF NOT EXISTS stock_data_cata;"
   ]
  },
  {
   "cell_type": "markdown",
   "id": "3ff66540",
   "metadata": {},
   "source": [
    "##### In tesing environment, we will store our data in databricks metastore"
   ]
  },
  {
   "cell_type": "code",
   "execution_count": null,
   "id": "8080a4dc",
   "metadata": {
    "vscode": {
     "languageId": "plaintext"
    }
   },
   "outputs": [],
   "source": [
    "%sql\n",
    "CREATE SCHEMA IF NOT EXISTS stock_data_cata.raw;\n",
    "CREATE SCHEMA IF NOT EXISTS stock_data_cata.bronze;\n",
    "CREATE SCHEMA IF NOT EXISTS stock_data_cata.silver;\n",
    "CREATE SCHEMA IF NOT EXISTS stock_data_cata.gold;"
   ]
  },
  {
   "cell_type": "code",
   "execution_count": null,
   "id": "f041d24c",
   "metadata": {
    "vscode": {
     "languageId": "plaintext"
    }
   },
   "outputs": [],
   "source": [
    "%sql\n",
    "CREATE VOLUME IF NOT EXISTS stock_data_cata.raw.rawvolume;\n",
    "CREATE VOLUME IF NOT EXISTS stock_data_cata.bronze.bronzevolume;\n",
    "CREATE VOLUME IF NOT EXISTS stock_data_cata.bronze.streaming_landing;"
   ]
  }
 ],
 "metadata": {
  "language_info": {
   "name": "python"
  }
 },
 "nbformat": 4,
 "nbformat_minor": 5
}
