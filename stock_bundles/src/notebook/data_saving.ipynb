{
 "cells": [
  {
   "cell_type": "markdown",
   "id": "1f9bf526",
   "metadata": {},
   "source": [
    "#### Check for data in Silver catalog and save to Silver container"
   ]
  },
  {
   "cell_type": "code",
   "execution_count": null,
   "id": "aeb5512b",
   "metadata": {},
   "outputs": [],
   "source": [
    "df = spark.read.table(\"stock_data_cata.silver.silver_cleaned\")\n",
    "df.write.format(\"delta\").mode(\"append\").save(\"abfss://silver@stockstreametl.dfs.core.windows.net/silver_cleaned\")\n",
    "display(df)"
   ]
  },
  {
   "cell_type": "code",
   "execution_count": null,
   "id": "3c2aa37b",
   "metadata": {},
   "outputs": [],
   "source": [
    "df = spark.read.table(\"stock_data_cata.silver.silver_ticker_indicators\")\n",
    "df.write.format(\"delta\").mode(\"append\").save(\"abfss://silver@stockstreametl.dfs.core.windows.net/silver_ticker_indicators\")\n",
    "display(df)"
   ]
  },
  {
   "cell_type": "markdown",
   "id": "9e19e8ed",
   "metadata": {},
   "source": [
    "#### Check for data in Gold catalog and save to Gold container"
   ]
  },
  {
   "cell_type": "code",
   "execution_count": null,
   "id": "bf092f7c",
   "metadata": {},
   "outputs": [],
   "source": [
    "df = spark.read.table(\"stock_data_cata.gold.dim_tickers\")\n",
    "df.write.format(\"delta\").mode(\"append\").save(\"abfss://gold@stockstreametl.dfs.core.windows.net/dim_tickers\")\n",
    "display(df)"
   ]
  },
  {
   "cell_type": "code",
   "execution_count": null,
   "id": "30c8d215",
   "metadata": {},
   "outputs": [],
   "source": [
    "df = spark.read.table(\"stock_data_cata.gold.data_quality_metrics\")\n",
    "df.write.format(\"delta\").mode(\"append\").save(\"abfss://gold@stockstreametl.dfs.core.windows.net/data_quality_metrics\")\n",
    "display(df)"
   ]
  },
  {
   "cell_type": "code",
   "execution_count": null,
   "id": "260f5d4c",
   "metadata": {},
   "outputs": [],
   "source": [
    "df = spark.read.table(\"stock_data_cata.gold.fact_daily_ticker_performance\")\n",
    "df.write.format(\"delta\").mode(\"append\").save(\"abfss://gold@stockstreametl.dfs.core.windows.net/fact_daily_ticker_performance\")\n",
    "display(df)"
   ]
  },
  {
   "cell_type": "code",
   "execution_count": null,
   "id": "c23b8b52",
   "metadata": {},
   "outputs": [],
   "source": [
    "df = spark.read.table(\"stock_data_cata.gold.fact_monthly_ticker_summary\")\n",
    "df.write.format(\"delta\").mode(\"append\").save(\"abfss://gold@stockstreametl.dfs.core.windows.net/fact_monthly_ticker_summary\")\n",
    "display(df)"
   ]
  },
  {
   "cell_type": "code",
   "execution_count": null,
   "id": "ce69a9ff",
   "metadata": {},
   "outputs": [],
   "source": [
    "df = spark.read.table(\"stock_data_cata.gold.fact_weekly_ticker_summary\")\n",
    "df.write.format(\"delta\").mode(\"append\").save(\"abfss://gold@stockstreametl.dfs.core.windows.net/fact_weekly_ticker_summary\")\n",
    "display(df)"
   ]
  }
 ],
 "metadata": {
  "kernelspec": {
   "display_name": "data-streaming",
   "language": "python",
   "name": "python3"
  },
  "language_info": {
   "name": "python",
   "version": "3.12.10"
  }
 },
 "nbformat": 4,
 "nbformat_minor": 5
}
