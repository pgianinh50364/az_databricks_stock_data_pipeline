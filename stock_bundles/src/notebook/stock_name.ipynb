{
 "cells": [
  {
   "cell_type": "markdown",
   "metadata": {},
   "source": [
    "#### Create key-value pairs for each stock symbol in sample data"
   ]
  },
  {
   "cell_type": "code",
   "execution_count": null,
   "metadata": {},
   "outputs": [],
   "source": [
    "ticker_array = [\n",
    "    {\"ticker\": \"AAPL\"},\n",
    "    {\"ticker\": \"ABT\"},\n",
    "    {\"ticker\": \"ADBE\"},\n",
    "    {\"ticker\": \"AMD\"},\n",
    "    {\"ticker\": \"AMGN\"},\n",
    "    {\"ticker\": \"AMZN\"},\n",
    "    {\"ticker\": \"AVGO\"},\n",
    "    {\"ticker\": \"AXP\"},\n",
    "    {\"ticker\": \"BAC\"},\n",
    "    {\"ticker\": \"BKNG\"},\n",
    "]"
   ]
  },
  {
   "cell_type": "code",
   "execution_count": 0,
   "metadata": {
    "application/vnd.databricks.v1+cell": {
     "cellMetadata": {
      "byteLimit": 2048000,
      "rowLimit": 10000
     },
     "inputWidgets": {},
     "nuid": "6bca260b-13d1-448f-8082-30b60a85c9ae",
     "showTitle": false,
     "title": ""
    }
   },
   "outputs": [],
   "source": [
    "dbutils.jobs.taskValues.set(key=\"output_key\", value=ticker_array)"
   ]
  }
 ],
 "metadata": {
  "application/vnd.databricks.v1+notebook": {
   "dashboards": [],
   "language": "python",
   "notebookMetadata": {
    "pythonIndentUnit": 2
   },
   "notebookName": "notebook",
   "widgets": {}
  },
  "kernelspec": {
   "display_name": "Python 3",
   "language": "python",
   "name": "python3"
  },
  "language_info": {
   "name": "python",
   "version": "3.11.4"
  }
 },
 "nbformat": 4,
 "nbformat_minor": 0
}
